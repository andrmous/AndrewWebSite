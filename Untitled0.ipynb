{
  "nbformat": 4,
  "nbformat_minor": 0,
  "metadata": {
    "colab": {
      "provenance": [],
      "authorship_tag": "ABX9TyO6wCkA9ab2+H3yzgWUR9oP",
      "include_colab_link": true
    },
    "kernelspec": {
      "name": "python3",
      "display_name": "Python 3"
    },
    "language_info": {
      "name": "python"
    }
  },
  "cells": [
    {
      "cell_type": "markdown",
      "metadata": {
        "id": "view-in-github",
        "colab_type": "text"
      },
      "source": [
        "<a href=\"https://colab.research.google.com/github/andrmous/AndrewWebSite/blob/main/Untitled0.ipynb\" target=\"_parent\"><img src=\"https://colab.research.google.com/assets/colab-badge.svg\" alt=\"Open In Colab\"/></a>"
      ]
    },
    {
      "cell_type": "code",
      "execution_count": 7,
      "metadata": {
        "colab": {
          "base_uri": "https://localhost:8080/"
        },
        "id": "FuYDUF6Ztd4o",
        "outputId": "ef6e3fb7-41f6-4349-b5c8-63a474e29e76"
      },
      "outputs": [
        {
          "output_type": "stream",
          "name": "stdout",
          "text": [
            "Correspondance 1 (lundi): [('200 210', 'Merwan'), ('Cap gauche', 'Olivier'), ('220 230', 'Adrien'), ('300 310', 'Andrew'), ('350 360 370', 'Felix'), ('320 330 340', 'Flo'), ('Cap gauche', 'Frank'), ('Cap droite', 'Jeremy')]\n",
            "Correspondance 2 (mardi): [('200 210', 'Thomas'), ('Cap gauche', 'Olivier'), ('Cap gauche', 'Adrien'), ('Cap droite', 'Andrew'), ('220 230', 'Arnauld'), ('350 360 370', 'Felix'), ('300 310', 'Flo'), ('320 330 340', 'Frank')]\n",
            "Correspondance 3 (mercredi): [('200 210', 'Frank'), ('Cap droite', 'Olivier'), ('Cap gauche', 'Adrien'), ('350 360 370', 'Andrew'), ('220 230', 'Arnauld'), ('320 330 340', 'Damien'), ('300 310', 'Felix'), ('Cap droite', 'Flo')]\n",
            "Correspondance 4 (jeudi): [('200 210', 'Damien'), ('Cap droite', 'Olivier'), ('Cap gauche', 'Adrien'), ('350 360 370', 'Arnauld'), ('Cap droite', 'Flo'), ('220 230', 'Frank'), ('300 310', 'Jeremy'), ('320 330 340', 'Laurent')]\n",
            "Correspondance 5 (vendredi): [('200 210', 'Jeremy'), ('220 230', 'Adrien'), ('320 330 340', 'Arnauld'), ('300 310', 'Damien'), ('Cap droite', 'Flo'), ('Cap gauche', 'Frank'), ('350 360 370', 'Laurent')]\n",
            "Correspondance 6 (samedi): [('200 210', 'Laurence'), ('Cap gauche', 'Olivier'), ('220 230', 'Adrien'), ('300 310', 'Andrew'), ('Cap gauche', 'Arnauld'), ('Cap droite', 'Damien'), ('320 330 340', 'Felix'), ('350 360 370', 'Flo')]\n",
            "Correspondance 7 (dimanche): [('200 210', 'Laurent'), ('Cap droite', 'Olivier'), ('350 360 370', 'Adrien'), ('220 230', 'Andrew'), ('320 330 340', 'Damien'), ('Cap gauche', 'Felix'), ('Cap droite', 'Flo'), ('300 310', 'Frank')]\n",
            "Correspondance 8 (lundi): [('200 210', 'Felix'), ('Cap gauche', 'Olivier'), ('Cap droite', 'Adrien'), ('320 330 340', 'Andrew'), ('Cap gauche', 'Flo'), ('350 360 370', 'Frank'), ('300 310', 'Jeremy'), ('220 230', 'Laurent')]\n",
            "Correspondance 9 (mardi): [('200 210', 'Flo'), ('Cap droite', 'Olivier'), ('Cap droite', 'Adrien'), ('300 310', 'Andrew'), ('Cap gauche', 'Arnauld'), ('220 230', 'Felix'), ('320 330 340', 'Frank'), ('350 360 370', 'Jeremy')]\n",
            "Correspondance 10 (mercredi): [('200 210', 'Andrew'), ('Cap gauche', 'Olivier'), ('320 330 340', 'Adrien'), ('Cap gauche', 'Arnauld'), ('Cap droite', 'Damien'), ('220 230', 'Felix'), ('300 310', 'Flo'), ('350 360 370', 'Frank')]\n",
            "Correspondance 11 (jeudi): [('200 210', 'Olivier'), ('Cap droite', 'Olivier'), ('Cap gauche', 'Adrien'), ('Cap droite', 'Arnauld'), ('300 310', 'Damien'), ('350 360 370', 'Flo'), ('220 230', 'Frank'), ('320 330 340', 'Jeremy')]\n",
            "Correspondance 12 (vendredi): [('200 210', 'Arnauld'), ('320 330 340', 'Adrien'), ('350 360 370', 'Damien'), ('Cap droite', 'Flo'), ('300 310', 'Frank'), ('Cap gauche', 'Jeremy'), ('220 230', 'Laurent')]\n",
            "Correspondance 13 (samedi): [('200 210', 'Marwan'), ('Cap gauche', 'Olivier'), ('220 230', 'Adrien'), ('Cap droite', 'Andrew'), ('Cap gauche', 'Arnauld'), ('300 310', 'Damien'), ('320 330 340', 'Felix'), ('350 360 370', 'Flo')]\n",
            "Correspondance 14 (dimanche): [('200 210', 'Adrien'), ('Cap droite', 'Olivier'), ('300 310', 'Andrew'), ('320 330 340', 'Damien'), ('Cap gauche', 'Felix'), ('Cap droite', 'Flo'), ('220 230', 'Frank'), ('350 360 370', 'Jeremy')]\n"
          ]
        }
      ],
      "source": [
        "import random\n",
        "\n",
        "def generer_associations(noms, secteurs, iterations=14):\n",
        "    # Vérifier que les listes sont compatibles\n",
        "    if len(noms) < 7:\n",
        "        raise ValueError(\"Il faut au moins 7 noms pour assigner un nom à chaque secteur.\")\n",
        "\n",
        "    # Liste pour compter combien de fois chaque nom a été associé à \"200 210\"\n",
        "    noms_deja_dans_200_210 = []\n",
        "\n",
        "    # Stocker les associations déjà faites\n",
        "    associations_faites = []\n",
        "\n",
        "    # Liste des jours de la semaine\n",
        "    jours_semaine = [\"lundi\", \"mardi\", \"mercredi\", \"jeudi\", \"vendredi\", \"samedi\", \"dimanche\"]\n",
        "\n",
        "    # Générer les correspondances\n",
        "    for i in range(iterations):\n",
        "        random.shuffle(secteurs)  # Mélanger les secteurs pour varier les associations\n",
        "\n",
        "        jour = jours_semaine[i % len(jours_semaine)]  # Obtenir le jour de la semaine actuel\n",
        "\n",
        "        # Exclure certains noms selon le jour de la semaine\n",
        "        noms_disponibles = noms.copy()\n",
        "\n",
        "        # Appliquer les restrictions de disponibilité\n",
        "        if jour in [\"lundi\", \"dimanche\"]:\n",
        "            if \"Arnauld\" in noms_disponibles:\n",
        "                noms_disponibles.remove(\"Arnauld\")\n",
        "        if jour in [\"lundi\", \"mardi\"]:\n",
        "            if \"Damien\" in noms_disponibles:\n",
        "                noms_disponibles.remove(\"Damien\")\n",
        "        if jour in [\"jeudi\", \"vendredi\"]:\n",
        "            if \"Felix\" in noms_disponibles:\n",
        "                noms_disponibles.remove(\"Felix\")\n",
        "            if \"Franck\" in noms_disponibles:\n",
        "                noms_disponibles.remove(\"Franck\")\n",
        "            if \"Andrew\" in noms_disponibles:\n",
        "                noms_disponibles.remove(\"Andrew\")\n",
        "            if \"Merwan\" in noms_disponibles:\n",
        "                noms_disponibles.remove(\"Merwan\")\n",
        "        if jour in [\"mercredi\", \"jeudi\"]:\n",
        "            if \"Marwan\" in noms_disponibles:\n",
        "                noms_disponibles.remove(\"Marwan\")\n",
        "        if jour == \"vendredi\":\n",
        "            if \"Olivier\" in noms_disponibles:\n",
        "                noms_disponibles.remove(\"Olivier\")\n",
        "\n",
        "        # Sélectionner un nom qui n'a pas encore été dans \"200 210\" ou en choisir un au hasard\n",
        "        if len(noms_deja_dans_200_210) < len(noms_disponibles):\n",
        "            nom_200_210 = random.choice([nom for nom in noms_disponibles if nom not in noms_deja_dans_200_210])\n",
        "        else:\n",
        "            nom_200_210 = random.choice(noms_disponibles)\n",
        "\n",
        "        # Ajouter ce nom à ceux qui ont déjà été dans \"200 210\"\n",
        "        noms_deja_dans_200_210.append(nom_200_210)\n",
        "\n",
        "        # Associer \"200 210\" au nom sélectionné\n",
        "        secteur_special = [(\"200 210\", nom_200_210)]\n",
        "\n",
        "        # Gestion spéciale pour \"Olivier\"\n",
        "        association_olivier = []\n",
        "        if \"Olivier\" in noms_disponibles:  # Vérifiez que \"Olivier\" est disponible\n",
        "            secteur_olivier = random.choice([\"Cap gauche\", \"Cap droite\"])\n",
        "            association_olivier = [(secteur_olivier, \"Olivier\")]\n",
        "\n",
        "        # Associer les autres secteurs aux autres noms disponibles\n",
        "        autres_noms = [nom for nom in noms_disponibles if nom != nom_200_210 and nom != \"Olivier\"]\n",
        "        autres_secteurs = [s for s in secteurs if s not in [\"200 210\", secteur_olivier[0] if association_olivier else None]]  # Exclure les secteurs déjà attribués\n",
        "\n",
        "        random.shuffle(autres_secteurs)  # Mélanger les secteurs restants\n",
        "\n",
        "        # Associer les autres secteurs restants aux autres noms restants\n",
        "        autres_associations = list(zip(autres_secteurs, autres_noms))\n",
        "\n",
        "        # Combiner les associations\n",
        "        association = secteur_special + association_olivier + autres_associations\n",
        "\n",
        "        # Ajouter cette correspondance à la liste finale\n",
        "        associations_faites.append(association)\n",
        "\n",
        "        # Afficher la correspondance avec le jour de la semaine\n",
        "        print(f\"Correspondance {i+1} ({jour}): {association}\")\n",
        "\n",
        "# Exemples de listes de noms et de secteurs\n",
        "noms = [\"Adrien\", \"Andrew\", \"Arnauld\", \"Damien\", \"Felix\", \"Flo\", \"Frank\", \"Jeremy\", \"Laurent\", \"Laurence\", \"Majd\", \"Marwan\", \"Merwan\", \"Olivier\", \"Raph\", \"Thomas\"]\n",
        "secteurs = [\"220 230\", \"200 210\", \"300 310\", \"320 330 340\", \"350 360 370\", \"Cap gauche\", \"Cap droite\"]\n",
        "\n",
        "# Appeler la fonction pour générer les associations\n",
        "generer_associations(noms, secteurs)\n"
      ]
    }
  ]
}